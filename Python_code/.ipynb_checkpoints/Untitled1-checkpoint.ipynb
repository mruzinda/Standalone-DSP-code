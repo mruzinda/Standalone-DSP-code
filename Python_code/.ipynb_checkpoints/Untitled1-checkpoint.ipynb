{
 "cells": [
  {
   "cell_type": "code",
   "execution_count": 100,
   "metadata": {},
   "outputs": [
    {
     "data": {
      "image/png": "[encoded data removed]",
      "text/plain": [
       "<Figure size 432x288 with 1 Axes>"
      ]
     },
     "metadata": {
      "needs_background": "light"
     },
     "output_type": "display_data"
    },
    {
     "data": {
      "text/plain": [
       "Text(0, 0.5, 'Power (arb.)')"
      ]
     },
     "execution_count": 100,
     "metadata": {},
     "output_type": "execute_result"
    },
    {
     "data": {
      "image/png": "[encoded data removed]",
      "text/plain": [
       "<Figure size 432x288 with 1 Axes>"
      ]
     },
     "metadata": {
      "needs_background": "light"
     },
     "output_type": "display_data"
    }
   ],
   "source": [
    "# This script reshapes the one dimensional array from the beamformer and plots the response for analysis\n",
    "import matplotlib.pyplot as plt\n",
    "from array import array\n",
    "import numpy as np\n",
    "\n",
    "# Open text file containing beamformer output\n",
    "#f = open(\"output_d_c.txt\", 'r')\n",
    "f = open(\"output_d_cuda.txt\", 'r')\n",
    "\n",
    "# Read file contents\n",
    "contents = f.read()\n",
    "\n",
    "# Split elements based on new line i.e. '\\n'\n",
    "contents_tmp = contents.split('\\n')\n",
    "\n",
    "# Convert contents from string to float\n",
    "contents_float = np.zeros(len(contents_tmp))\n",
    "for i in range(0,len(contents_tmp)-1):\n",
    "    contents_float[i] = float(contents_tmp[i])\n",
    "\n",
    "# Array dimensions\n",
    "N_beam = 64\n",
    "N_bin = 10\n",
    "N_time = 8\n",
    "\n",
    "# Reshape array to 3D -> Time X Bins X Beams\n",
    "contents_array = contents_float[0:(N_time*N_bin*N_beam)].reshape(N_time,N_bin,N_beam)\n",
    "\n",
    "beam_idx = 0 # beam index to plot\n",
    "time_idx = 0 # time sample index to plot\n",
    "#contents_array[beam_idx][0:N_bin-1][0:N_time-1]\n",
    "\n",
    "# Plot intensity map of frequency vs. time\n",
    "# \"interpolation ='none'\" removes interpolation which was there by default. \n",
    "# I'm only removing it for the sake of accurate analysis and diagnosis.\n",
    "plt.imshow(contents_array[0:N_time,0:N_bin,beam_idx], extent=[1, N_bin, 1, N_time], interpolation='none')\n",
    "#plt.imshow(contents_array[0:N_time,0:N_bin,beam_idx], extent=[1, N_bin, 1, N_time], interpolation='bicubic')\n",
    "plt.title('Intensity map (Frequency vs. time)')\n",
    "plt.ylabel('Time samples')\n",
    "plt.xlabel('Frequency bins')\n",
    "plt.show()\n",
    "\n",
    "# Plot of power spectrum\n",
    "plt.plot(contents_array[time_idx,0:N_bin,beam_idx])\n",
    "plt.title('Power spectrum at a time sample')\n",
    "plt.xlabel('Frequency bins')\n",
    "plt.ylabel('Power (arb.)')"
   ]
  },
  {
   "cell_type": "code",
   "execution_count": 89,
   "metadata": {},
   "outputs": [
    {
     "name": "stdout",
     "output_type": "stream",
     "text": [
      "[[      0.       0.       0.       0.       0. 8128510.       0.       0.\n",
      "        0.       0.]\n",
      " [      0.       0.       0.       0.       0. 8128510.       0.       0.\n",
      "        0.       0.]\n",
      " [      0.       0.       0.       0.       0. 8128510.       0.       0.\n",
      "        0.       0.]\n",
      " [      0.       0.       0.       0.       0. 8128510.       0.       0.\n",
      "        0.       0.]\n",
      " [      0.       0.       0.       0.       0. 8128510.       0.       0.\n",
      "        0.       0.]\n",
      " [      0.       0.       0.       0.       0. 8128510.       0.       0.\n",
      "        0.       0.]\n",
      " [      0.       0.       0.       0.       0. 8128510.       0.       0.\n",
      "        0.       0.]\n",
      " [      0.       0.       0.       0.       0. 8128510.       0.       0.\n",
      "        0.       0.]]\n"
     ]
    }
   ],
   "source": [
    "print(contents_array[0:N_time,0:N_bin,0])"
   ]
  },
  {
   "cell_type": "code",
   "execution_count": null,
   "metadata": {},
   "outputs": [],
   "source": []
  },
  {
   "cell_type": "code",
   "execution_count": null,
   "metadata": {},
   "outputs": [],
   "source": []
  },
  {
   "cell_type": "code",
   "execution_count": null,
   "metadata": {},
   "outputs": [],
   "source": []
  },
  {
   "cell_type": "code",
   "execution_count": null,
   "metadata": {},
   "outputs": [],
   "source": []
  },
  {
   "cell_type": "code",
   "execution_count": null,
   "metadata": {},
   "outputs": [],
   "source": []
  },
  {
   "cell_type": "code",
   "execution_count": null,
   "metadata": {},
   "outputs": [],
   "source": []
  }
 ],
 "metadata": {
  "kernelspec": {
   "display_name": "Python 3",
   "language": "python",
   "name": "python3"
  },
  "language_info": {
   "codemirror_mode": {
    "name": "ipython",
    "version": 3
   },
   "file_extension": ".py",
   "mimetype": "text/x-python",
   "name": "python",
   "nbconvert_exporter": "python",
   "pygments_lexer": "ipython3",
   "version": "3.8.3"
  }
 },
 "nbformat": 4,
 "nbformat_minor": 4
}
